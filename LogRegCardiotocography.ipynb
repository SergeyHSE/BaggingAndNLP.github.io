{
  "nbformat": 4,
  "nbformat_minor": 0,
  "metadata": {
    "colab": {
      "provenance": [],
      "authorship_tag": "ABX9TyNMZL7X/Q02GpQwStsU0+Ed"
    },
    "kernelspec": {
      "name": "python3",
      "display_name": "Python 3"
    },
    "language_info": {
      "name": "python"
    }
  },
  "cells": [
    {
      "cell_type": "code",
      "execution_count": null,
      "metadata": {
        "id": "QOCzK7I2wmoH"
      },
      "outputs": [],
      "source": [
        "import pandas as pd\n",
        "import requests\n",
        "from io import BytesIO\n",
        "import zipfile\n",
        "\n",
        "url = \"https://archive.ics.uci.edu/static/public/193/cardiotocography.zip\"\n",
        "response = requests.get(url)\n",
        "\n",
        "with zipfile.ZipFile(BytesIO(response.content)) as z:\n",
        "\n",
        "    with z.open(\"CTG.xls\") as f:\n",
        "\n",
        "        df = pd.read_excel(f, sheet_name=\"Data\", skiprows=[0])"
      ]
    }
  ]
}