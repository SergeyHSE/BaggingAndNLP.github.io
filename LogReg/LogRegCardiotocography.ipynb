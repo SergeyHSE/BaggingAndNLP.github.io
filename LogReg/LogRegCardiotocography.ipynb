import pandas as pd
import requests
from io import BytesIO
import zipfile

url = "https://archive.ics.uci.edu/static/public/193/cardiotocography.zip"
response = requests.get(url)

with zipfile.ZipFile(BytesIO(response.content)) as z:
    
    with z.open("CTG.xls") as f:

        df = pd.read_excel(f, sheet_name="Data", skiprows=[0])
